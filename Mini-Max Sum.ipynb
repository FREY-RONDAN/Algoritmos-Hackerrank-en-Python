{
 "cells": [
  {
   "cell_type": "markdown",
   "id": "90fedd51",
   "metadata": {},
   "source": [
    "## DESCRIPTION\n",
    "### Mini-Max Sum"
   ]
  },
  {
   "cell_type": "markdown",
   "id": "4e1d63c6",
   "metadata": {},
   "source": [
    "Given five positive integers, find the minimum and maximum values that can be calculated by summing exactly four of the five integers. Then print the respective minimum and maximum values as a single line of two space-separated long integers.\n",
    "\n",
    "**Example**\n",
    "\n",
    "$arr = [1,3,5,7,9]$\n",
    "\n",
    "The minimum sum is $1 + 3 + 5 + 7 = 16$ and the maximum sum is $3 + 5 + 7 + 9 = 24$ . The function prints\n",
    "\n",
    "16 24\n",
    "\n",
    "**Function Description**\n",
    "\n",
    "Complete the miniMaxSum function in the editor below.\n",
    "\n",
    "miniMaxSum has the following parameter(s):\n",
    "\n",
    "- arr: an array of 5 integers\n",
    "\n",
    "**Print**\n",
    "\n",
    "Print two space-separated integers on one line: the minimum sum and the maximum sum of  of  elements.\n",
    "\n",
    "**Input Format**\n",
    "\n",
    "A single line of five space-separated integers.\n",
    "\n",
    "**Constraints**\n",
    "\n",
    "$1 \\le arr[i] \\le {10^9}$\n",
    "\n",
    "**Output Format**\n",
    "\n",
    "Print two space-separated long integers denoting the respective minimum and maximum values that can be calculated by summing exactly four of the five integers. (The output can be greater than a 32 bit integer.)\n",
    "\n",
    "**Sample Input**\n",
    "\n",
    "1 2 3 4 5\n",
    "\n",
    "**Sample Output**\n",
    "\n",
    "10 14\n",
    "\n",
    "**Explanation**\n",
    "\n",
    "The numbers are 1,2,3,4 and 5. Calculate the following sums using four of the five integers:\n",
    "\n",
    "- Sum everything except 1 , the sum is 2 + 3 + 4 + 5 = 14 .\n",
    "\n",
    "- Sum everything except 2, the sum is 1 + 3 + 4 + 5 = 13.\n",
    "\n",
    "- Sum everything except 3, the sum is 1 + 2 + 4 + 5 = 12.\n",
    "\n",
    "- Sum everything except 4, the sum is 1 + 2 + 3 + 5 = 11.\n",
    "\n",
    "- Sum everything except 5, the sum is 1 + 2 + 3 + 4 = 10.\n",
    "\n",
    "**Hints:** Beware of integer overflow! Use 64-bit Integer.\n",
    "\n",
    "Need help to get started? Try the Solve Me First problem"
   ]
  },
  {
   "cell_type": "markdown",
   "id": "31d8a061",
   "metadata": {},
   "source": [
    "## Algorithm"
   ]
  },
  {
   "cell_type": "code",
   "execution_count": 1,
   "id": "b0c747c3",
   "metadata": {},
   "outputs": [],
   "source": [
    "def miniMaxSum(arr):\n",
    "    r1=max(arr)\n",
    "    r2=min(arr)\n",
    "    ma=sum(arr)-r2\n",
    "    mi=sum(arr)-r1\n",
    "    \n",
    "    print (mi,ma)"
   ]
  },
  {
   "cell_type": "code",
   "execution_count": 2,
   "id": "eb8dade1",
   "metadata": {},
   "outputs": [
    {
     "name": "stdout",
     "output_type": "stream",
     "text": [
      "10 14\n"
     ]
    }
   ],
   "source": [
    "miniMaxSum([1,2,3,4,5])"
   ]
  },
  {
   "cell_type": "code",
   "execution_count": null,
   "id": "63db8be0",
   "metadata": {},
   "outputs": [],
   "source": []
  }
 ],
 "metadata": {
  "kernelspec": {
   "display_name": "Python 3",
   "language": "python",
   "name": "python3"
  },
  "language_info": {
   "codemirror_mode": {
    "name": "ipython",
    "version": 3
   },
   "file_extension": ".py",
   "mimetype": "text/x-python",
   "name": "python",
   "nbconvert_exporter": "python",
   "pygments_lexer": "ipython3",
   "version": "3.8.8"
  }
 },
 "nbformat": 4,
 "nbformat_minor": 5
}
