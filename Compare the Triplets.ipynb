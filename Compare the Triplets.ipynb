{
 "cells": [
  {
   "cell_type": "markdown",
   "id": "51d2c9e6",
   "metadata": {},
   "source": [
    "## DESCRIPTION\n",
    "### Compare the Triplets"
   ]
  },
  {
   "cell_type": "markdown",
   "id": "3330985f",
   "metadata": {},
   "source": [
    "Alice and Bob each created one problem for HackerRank. A reviewer rates the two challenges, awarding points on a scale from 1 to 100 for three categories: problem clarity, originality, and difficulty.\n",
    "\n",
    "The rating for Alice's challenge is the triplet a = (a[0], a[1], a[2]), and the rating for Bob's challenge is the triplet b = (b[0], b[1], b[2]).\n",
    "\n",
    "The task is to find their comparison points by comparing a[0] with b[0], a[1] with b[1], and a[2] with b[2].\n",
    "\n",
    "- If a[i] > b[i], then Alice is awarded 1 point.\n",
    "- If a[i] < b[i], then Bob is awarded 1 point.\n",
    "- If a[i] = b[i], then neither person receives a point.\n",
    "\n",
    "Comparison points is the total points a person earned.\n",
    "\n",
    "Given a and b, determine their respective comparison points.\n",
    "\n",
    "**Example**\n",
    "\n",
    "a = [1, 2, 3]\n",
    "b = [3, 2, 1]\n",
    "\n",
    "- For elements *0*, Bob is awarded a point because a[0] .\n",
    "\n",
    "- For the equal elements a[1] and b[1], no points are earned.\n",
    "\n",
    "- Finally, for elements 2, a[2] > b[2] so Alice receives a point.\n",
    "\n",
    "The return array is [1, 1] with Alice's score first and Bob's second.\n",
    "\n",
    "**Function Description**\n",
    "\n",
    "Complete the function compareTriplets in the editor below.\n",
    "\n",
    "compareTriplets has the following parameter(s):\n",
    "\n",
    "- int a[3]: Alice's challenge rating\n",
    "\n",
    "- int b[3]: Bob's challenge rating\n",
    "\n",
    "**Return**\n",
    "\n",
    "- int[2]: Alice's score is in the first position, and Bob's score is in the second.\n",
    "\n",
    "**Input Format**\n",
    "\n",
    "The first line contains 3 space-separated integers, a[0], a[1], and a[2], the respective values in triplet a.\n",
    "\n",
    "The second line contains 3 space-separated integers, b[0], b[1], and b[2], the respective values in triplet b.\n",
    "\n",
    "**Constraints**\n",
    "\n",
    "- 1 ≤ a[i] ≤ 100\n",
    "\n",
    "- 1 ≤ b[i] ≤ 100\n",
    "\n",
    "**Sample Input 0**\n",
    "\n",
    "5 6 7\n",
    "\n",
    "3 6 10\n",
    "\n",
    "**Sample Output 0**\n",
    "\n",
    "1 1\n",
    "\n",
    "**Explanation 0**\n",
    "\n",
    "In this example:\n",
    "\n",
    "- $a = (a[0],a[1],a[2]) = (5,6,7)$\n",
    "\n",
    "- $b = (b[0],b[1],b[2]) = (3,6,10)$\n",
    "\n",
    "Now, let's compare each individual score:\n",
    "\n",
    "- $a[0] > b[0]$, so Alice receives 1 point.\n",
    "\n",
    "- $a[1] > b[1]$, so nobody receives a point.\n",
    "\n",
    "- $a[2] > b[2]$, so Bob receives  1 point.\n",
    "\n",
    "Alice's comparison score is 1, and Bob's comparison score is 1 . Thus, we return the array [1,1].\n",
    "\n",
    "**Sample Input 1**\n",
    "\n",
    "17 28 30\n",
    "\n",
    "99 16 8\n",
    "\n",
    "**Sample Output 1**\n",
    "\n",
    "2 1\n",
    "\n",
    "**Explanation 1**\n",
    "\n",
    "Comparing the ${0^{th}}$ elements, **17 < 99** so Bob receives a point.\n",
    "Comparing the ${1^{th}}$ and ${2^{th}}$ elements, **28 > 16** and **30 > 8**  so Alice receives two points.\n",
    "The return array is **[2,1]** ."
   ]
  },
  {
   "cell_type": "markdown",
   "id": "0c0b5610",
   "metadata": {},
   "source": [
    "## Algorithm"
   ]
  },
  {
   "cell_type": "code",
   "execution_count": 2,
   "id": "0c53976b",
   "metadata": {},
   "outputs": [],
   "source": [
    "#Compare the Triplets\n",
    "\n",
    "def compareTriplets(a, b):\n",
    "    # Write your code here\n",
    "    n=len(a)\n",
    "    alice=0\n",
    "    bob=0\n",
    "    for i in range(0,n):\n",
    "        if a[i]>b[i]:\n",
    "            alice+=1\n",
    "            \n",
    "        if b[i]>a[i]:\n",
    "            bob+=1\n",
    "            \n",
    "    r=[alice,bob]\n",
    "    return r"
   ]
  },
  {
   "cell_type": "code",
   "execution_count": 3,
   "id": "df4180f6",
   "metadata": {},
   "outputs": [
    {
     "data": {
      "text/plain": [
       "[2, 1]"
      ]
     },
     "execution_count": 3,
     "metadata": {},
     "output_type": "execute_result"
    }
   ],
   "source": [
    "compareTriplets([17,28,30], [99,16,8])"
   ]
  }
 ],
 "metadata": {
  "kernelspec": {
   "display_name": "Python 3",
   "language": "python",
   "name": "python3"
  },
  "language_info": {
   "codemirror_mode": {
    "name": "ipython",
    "version": 3
   },
   "file_extension": ".py",
   "mimetype": "text/x-python",
   "name": "python",
   "nbconvert_exporter": "python",
   "pygments_lexer": "ipython3",
   "version": "3.8.8"
  }
 },
 "nbformat": 4,
 "nbformat_minor": 5
}
