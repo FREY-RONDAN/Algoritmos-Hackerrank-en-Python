{
 "cells": [
  {
   "cell_type": "markdown",
   "id": "6158fbfa",
   "metadata": {},
   "source": [
    "## DESCRIPTION\n",
    "### Diagonal Difference"
   ]
  },
  {
   "cell_type": "markdown",
   "id": "bf8ac424",
   "metadata": {},
   "source": [
    "Given a square matrix, calculate the absolute difference between the sums of its diagonals.\n",
    "\n",
    "For example, the square matrix **arr* is shown below:\n",
    "\n",
    "1 2 3\n",
    "\n",
    "4 5 6\n",
    "\n",
    "9 8 9  \n",
    "\n",
    "The left-to-right diagonal **1 + 5 + 9 = 15** . The right to left diagonal **3 + 5 + 9 = 17** . Their absolute difference is **|15 - 17 = 2** .\n",
    "\n",
    "**Function description**\n",
    "\n",
    "Complete the *diagonalDifference* function in the editor below. \n",
    "\n",
    "diagonalDifference takes the following parameter:\n",
    "\n",
    "- int arr[n][m]: an array of integers\n",
    "\n",
    "**Return**\n",
    "\n",
    "- int: the absolute diagonal difference\n",
    "\n",
    "**Input Format**\n",
    "\n",
    "The first line contains a single integer,**n** , the number of rows and columns in the square matrix **arr**.\n",
    "\n",
    "Each of the next **n** lines describes a row,**arr[i]** , and consists **n** of  space-separated integers **arr[i][j]**.\n",
    "\n",
    "**Constraints**\n",
    "\n",
    "- $ - 100 \\le arr[i][j] \\le 100$\n",
    "\n",
    "**Output Format**\n",
    "\n",
    "Return the absolute difference between the sums of the matrix's two diagonals as a single integer.\n",
    "\n",
    "**Sample Input**\n",
    "\n",
    "3\n",
    "\n",
    "11 2 4\n",
    "\n",
    "4 5 6\n",
    "\n",
    "10 8 -12\n",
    "\n",
    "**Sample Output**\n",
    "\n",
    "15\n",
    "\n",
    "**Explanation**\n",
    "\n",
    "The primary diagonal is:\n",
    "\n",
    "11\n",
    "\n",
    "    5\n",
    "   \n",
    "     -12\n",
    "     \n",
    "Sum across the primary diagonal: 11 + 5 - 12 = 4\n",
    "\n",
    "The secondary diagonal is:\n",
    "\n",
    "      4 \n",
    "    5\n",
    "10\n",
    "\n",
    "Sum across the secondary diagonal: 4 + 5 + 10 = 19\n",
    "Difference: |4 - 19| = 15\n",
    "\n",
    "**Note**: |x| is the absolute value of x"
   ]
  },
  {
   "cell_type": "markdown",
   "id": "2bae04c4",
   "metadata": {},
   "source": [
    "## Algorithm"
   ]
  },
  {
   "cell_type": "code",
   "execution_count": 1,
   "id": "57991818",
   "metadata": {},
   "outputs": [],
   "source": [
    "# Diagonal Difference\n",
    "def diagonalDifference(matrix):\n",
    "    dp=0\n",
    "    ds=0\n",
    "    n=len(matrix)\n",
    "    \n",
    "    for i in range(0,n):\n",
    "        dp+=matrix[i][i]\n",
    "        ds+=matrix[i][n-1-i] \n",
    "    \n",
    "    return (abs(dp-ds))"
   ]
  },
  {
   "cell_type": "code",
   "execution_count": 2,
   "id": "4a45b4e2",
   "metadata": {},
   "outputs": [
    {
     "data": {
      "text/plain": [
       "0"
      ]
     },
     "execution_count": 2,
     "metadata": {},
     "output_type": "execute_result"
    }
   ],
   "source": [
    "diagonalDifference([[1,2,3],[4,5,6],[7,8,9]])"
   ]
  }
 ],
 "metadata": {
  "kernelspec": {
   "display_name": "Python 3",
   "language": "python",
   "name": "python3"
  },
  "language_info": {
   "codemirror_mode": {
    "name": "ipython",
    "version": 3
   },
   "file_extension": ".py",
   "mimetype": "text/x-python",
   "name": "python",
   "nbconvert_exporter": "python",
   "pygments_lexer": "ipython3",
   "version": "3.8.8"
  }
 },
 "nbformat": 4,
 "nbformat_minor": 5
}
