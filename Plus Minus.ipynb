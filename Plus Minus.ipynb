{
 "cells": [
  {
   "cell_type": "markdown",
   "id": "723a66b6",
   "metadata": {},
   "source": [
    "## DESCRIPTION\n",
    "### Plus Minus"
   ]
  },
  {
   "cell_type": "markdown",
   "id": "3c2a63ce",
   "metadata": {},
   "source": [
    "Given an array of integers, calculate the ratios of its elements that are positive, negative, and zero. Print the decimal value of each fraction on a new line with 6 places after the decimal.\n",
    "\n",
    "**Note:** This challenge introduces precision problems. The test cases are scaled to six decimal places, though answers with absolute error of up to ${10^{ - 4}}$ are acceptable.\n",
    "\n",
    "**Example**\n",
    "\n",
    "$arr = [1,1,0, - 1, - 1]$\n",
    "\n",
    "There are **n = 5** elements, two positive, two negative and one zero. Their ratios are $\\frac{2}{5}=$0.400000 , $\\frac{2}{5}=$0.400000 and $\\frac{1}{5}=$0.200000. Results are printed as:\n",
    "\n",
    "0.400000\n",
    "\n",
    "0.400000\n",
    "\n",
    "0.200000\n",
    "\n",
    "\n",
    "\n",
    "**Function Description**\n",
    "\n",
    "Complete the plusMinus function in the editor below.\n",
    "\n",
    "plusMinus has the following parameter(s):\n",
    "\n",
    "- int arr[n]: an array of integers\n",
    "\n",
    "**Print**\n",
    "\n",
    "Print the ratios of positive, negative and zero values in the array. Each value should be printed on a separate line with 6 digits after the decimal. The function should not return a value.\n",
    "\n",
    "**Input Format**\n",
    "\n",
    "The first line contains an integer,**n** , the size of the array.\n",
    "The second line contains **n** space-separated integers that describe **arr[n]** .\n",
    "\n",
    "**Constraints**\n",
    "\n",
    "$\\begin{array}{l}\n",
    "0 < n \\le 100\\\\\n",
    " - 100 \\le arr[i] \\le 100\n",
    "\\end{array}$\n",
    "\n",
    "**Output Format**\n",
    "\n",
    "**Print** the following 3 lines, each to 6 decimals:\n",
    "\n",
    "- proportion of positive values\n",
    "\n",
    "- proportion of negative values\n",
    "\n",
    "- proportion of zeros\n",
    "\n",
    "\n",
    "**Sample Output**\n",
    "\n",
    "0.500000\n",
    "\n",
    "0.333333\n",
    "\n",
    "0.166667\n",
    "\n",
    "**Explanation**\n",
    "\n",
    "There are 3 positive numbers, 2 negative numbers, and  zero in the array.\n",
    "The proportions of occurrence are positive:$\\frac{3}{6} = 0.500000$ , negative:$\\frac{2}{6} = 0.333333$ and zeros: $\\frac{1}{6} = 0.166667$  ."
   ]
  },
  {
   "cell_type": "markdown",
   "id": "532094aa",
   "metadata": {},
   "source": [
    "## Algorithm"
   ]
  },
  {
   "cell_type": "code",
   "execution_count": 1,
   "id": "aa71c13b",
   "metadata": {},
   "outputs": [],
   "source": [
    "def plusMinus(arr):\n",
    "    n=len(arr)\n",
    "    p=0\n",
    "    ne=0\n",
    "    c=0\n",
    "    for i in range(0,n):\n",
    "        if arr[i]>0:\n",
    "            p+=1\n",
    "        if arr[i]<0:\n",
    "            ne+=1\n",
    "    c=n-p-ne        \n",
    "    print(p/n)\n",
    "    print(ne/n)\n",
    "    print(c/n)"
   ]
  },
  {
   "cell_type": "code",
   "execution_count": 3,
   "id": "952c14aa",
   "metadata": {},
   "outputs": [
    {
     "name": "stdout",
     "output_type": "stream",
     "text": [
      "0.4\n",
      "0.4\n",
      "0.2\n"
     ]
    }
   ],
   "source": [
    "arr=[1,1,0,-1,-1]\n",
    "plusMinus(arr)"
   ]
  }
 ],
 "metadata": {
  "kernelspec": {
   "display_name": "Python 3",
   "language": "python",
   "name": "python3"
  },
  "language_info": {
   "codemirror_mode": {
    "name": "ipython",
    "version": 3
   },
   "file_extension": ".py",
   "mimetype": "text/x-python",
   "name": "python",
   "nbconvert_exporter": "python",
   "pygments_lexer": "ipython3",
   "version": "3.8.8"
  }
 },
 "nbformat": 4,
 "nbformat_minor": 5
}
