{
 "cells": [
  {
   "cell_type": "markdown",
   "id": "929bb224",
   "metadata": {},
   "source": [
    "## DESCRIPTION\n",
    "### A Very Big Sum"
   ]
  },
  {
   "cell_type": "markdown",
   "id": "77a82481",
   "metadata": {},
   "source": [
    "In this challenge, you are required to calculate and print the sum of the elements in an array, keeping in mind that some of those integers may be quite large.\n",
    "\n",
    "**Function Description**\n",
    "\n",
    "Complete the aVeryBigSum function in the editor below. It must return the sum of all array elements.\n",
    "\n",
    "aVeryBigSum has the following parameter(s):\n",
    "\n",
    "- int ar[n]: an array of integers .\n",
    "\n",
    "**Return**\n",
    "\n",
    "- long: the sum of all array elements\n",
    "\n",
    "**Input Format**\n",
    "\n",
    "The first line of the input consists of an integer **n**.\n",
    "The next **n** line contains  space-separated integers contained in the array.\n",
    "\n",
    "**Output Format**\n",
    "\n",
    "Return the integer sum of the elements in the array.\n",
    "\n",
    "**Constraints**\n",
    "\n",
    "$1 \\le n \\le 10$\n",
    "\n",
    "$0 \\le ar[i] \\le {10^{10}}$\n",
    "\n",
    "**Sample Input**\n",
    "\n",
    "5\n",
    "1000000001 1000000002 1000000003 1000000004 1000000005\n",
    "\n",
    "**Output**\n",
    "\n",
    "5000000015\n",
    "\n",
    "**Note:**\n",
    "\n",
    "The range of the 32-bit integer is $( - {2^{31}})to({2^{31}} + 1)or[ - 2147489646,2147489647]$ .\n",
    "\n",
    "When we add several integer values, the resulting sum might exceed the above range. You might need to use long int C/C++/Java to store such sums."
   ]
  },
  {
   "cell_type": "markdown",
   "id": "af6b31a1",
   "metadata": {},
   "source": [
    "## Algorithm"
   ]
  },
  {
   "cell_type": "code",
   "execution_count": 6,
   "id": "7667b696",
   "metadata": {},
   "outputs": [],
   "source": [
    "#A Very Big Sum\n",
    "def aVeryBigSum(ar):\n",
    "    # Write your code here\n",
    "     s=sum(ar)\n",
    "     return s"
   ]
  },
  {
   "cell_type": "code",
   "execution_count": 7,
   "id": "eb44c0af",
   "metadata": {},
   "outputs": [
    {
     "data": {
      "text/plain": [
       "15"
      ]
     },
     "execution_count": 7,
     "metadata": {},
     "output_type": "execute_result"
    }
   ],
   "source": [
    "aVeryBigSum([1,2,3,4,5])"
   ]
  }
 ],
 "metadata": {
  "kernelspec": {
   "display_name": "Python 3",
   "language": "python",
   "name": "python3"
  },
  "language_info": {
   "codemirror_mode": {
    "name": "ipython",
    "version": 3
   },
   "file_extension": ".py",
   "mimetype": "text/x-python",
   "name": "python",
   "nbconvert_exporter": "python",
   "pygments_lexer": "ipython3",
   "version": "3.8.8"
  }
 },
 "nbformat": 4,
 "nbformat_minor": 5
}
