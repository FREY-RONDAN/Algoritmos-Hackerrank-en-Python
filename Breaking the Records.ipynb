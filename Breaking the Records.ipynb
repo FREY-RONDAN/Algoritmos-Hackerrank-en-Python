{
 "cells": [
  {
   "cell_type": "markdown",
   "id": "7860a8df",
   "metadata": {},
   "source": [
    "## DESCRIPTION\n",
    "### Breaking the Records"
   ]
  },
  {
   "cell_type": "markdown",
   "id": "900f75cb",
   "metadata": {},
   "source": [
    "Maria plays college basketball and wants to go pro. Each season she maintains a record of her play. She tabulates the number of times she breaks her season record for most points and least points in a game. Points scored in the first game establish her record for the season, and she begins counting from there.\n",
    "\n",
    "**Example**\n",
    "\n",
    "$scores = [12,24,10,24]$\n",
    "\n",
    "Scores are in the same order as the games played. She tabulates her results as follows:\n",
    "\n",
    "                                     Count\n",
    "    Game  Score  Minimum  Maximum   Min Max\n",
    "     0      12     12       12       0   0\n",
    "     1      24     12       24       0   1\n",
    "     2      10     10       24       1   1\n",
    "     3      24     10       24       1   1\n",
    "\n",
    "Given the scores for a season, determine the number of times Maria breaks her records for most and least points scored during the season.\n",
    "\n",
    "**Function Description**\n",
    "\n",
    "Complete the breakingRecords function in the editor below.\n",
    "\n",
    "breakingRecords has the following parameter(s):\n",
    "\n",
    "- int scores[n]: points scored per game\n",
    "\n",
    "**Returns**\n",
    "\n",
    "- int[2]: An array with the numbers of times she broke her records. Index 0 is for breaking most points records, and index 1 is for breaking least points records.\n",
    "\n",
    "**Input Format**\n",
    "\n",
    "The first line contains an integer **n**, the number of games.\n",
    "\n",
    "The second line contains **n** space-separated integers describing the respective values of $scor{e_0},scor{e_1},scor{e_2},...,scor{e_{n - 1}}$.\n",
    "\n",
    "**Constraints**\n",
    "\n",
    "$\\begin{array}{l}\n",
    "1 \\le n \\le 1000\\\\\n",
    "0 \\le scores[i] \\le {10^8}\n",
    "\\end{array}$\n",
    "\n",
    "**Sample Input 0**\n",
    "\n",
    "9\n",
    "\n",
    "10 5 20 20 4 5 2 25 1\n",
    "\n",
    "**Sample Output 0**\n",
    "\n",
    "2 4\n",
    "\n",
    "**Explanation 0**\n",
    "\n",
    "The diagram below depicts the number of times Maria broke her best and worst records throughout the season:\n",
    "\n",
    "\n",
    "\n",
    "She broke her best record twice (after games 2 and 7 ) and her worst record four times (after games 1, 4,6 , and 8), so we print 2 4 as our answer. Note that she did not break her record for best score during game 3, as her score during that game was not strictly greater than her best record at the time.\n",
    "\n",
    "**Sample Input 1**\n",
    "\n",
    "10\n",
    "\n",
    "3 4 21 36 10 28 35 5 24 42\n",
    "\n",
    "**Sample Output 1**\n",
    "\n",
    "4 0\n",
    "\n",
    "**Explanation 1**\n",
    "\n",
    "The diagram below depicts the number of times Maria broke her best and worst records throughout the season:\n",
    "\n",
    "\n",
    "She broke her best record four times (after games 1,2 ,3 , and 9) and her worst record zero times (no score during the season was lower than the one she earned during her first game), so we print 4 0 as our answer."
   ]
  },
  {
   "cell_type": "markdown",
   "id": "833a4501",
   "metadata": {},
   "source": [
    "## Algorithm"
   ]
  },
  {
   "cell_type": "code",
   "execution_count": 1,
   "id": "17bee143",
   "metadata": {},
   "outputs": [],
   "source": [
    "def breakingRecords(scores):\n",
    "    \n",
    "    mmax=[]\n",
    "    mmin=[]\n",
    "    mmax.append(scores[0])\n",
    "    mmin.append(scores[0])\n",
    "    n=len(scores)\n",
    "    \n",
    "    for i in range(1,n):\n",
    "        if mmin[i-1]>=scores[i]:\n",
    "            mmin.append(scores[i])\n",
    "        else:\n",
    "            mmin.append(mmin[i-1])\n",
    "    for i in range(1,n):\n",
    "        if mmax[i-1]<=scores[i]:\n",
    "            mmax.append(scores[i])\n",
    "        else:\n",
    "            mmax.append(mmax[i-1])  \n",
    "    na=0\n",
    "    ni=0\n",
    "    for i in range(1,n):\n",
    "        if mmax[i-1]<mmax[i]:\n",
    "            na+=1\n",
    "   \n",
    "    \n",
    "    for i in range(1,n):\n",
    "        if mmin[i-1]>mmin[i]:\n",
    "            ni+=1\n",
    "    salida=[na,ni]\n",
    "    return salida\n"
   ]
  },
  {
   "cell_type": "code",
   "execution_count": 2,
   "id": "5c80ada4",
   "metadata": {},
   "outputs": [
    {
     "data": {
      "text/plain": [
       "[4, 0]"
      ]
     },
     "execution_count": 2,
     "metadata": {},
     "output_type": "execute_result"
    }
   ],
   "source": [
    "a1=[3, 4 ,21, 36, 10 ,28, 35, 5, 24, 42]\n",
    "breakingRecords(a1)"
   ]
  }
 ],
 "metadata": {
  "kernelspec": {
   "display_name": "Python 3",
   "language": "python",
   "name": "python3"
  },
  "language_info": {
   "codemirror_mode": {
    "name": "ipython",
    "version": 3
   },
   "file_extension": ".py",
   "mimetype": "text/x-python",
   "name": "python",
   "nbconvert_exporter": "python",
   "pygments_lexer": "ipython3",
   "version": "3.8.8"
  }
 },
 "nbformat": 4,
 "nbformat_minor": 5
}
