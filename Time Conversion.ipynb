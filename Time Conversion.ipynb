{
 "cells": [
  {
   "cell_type": "markdown",
   "id": "9aaa414e",
   "metadata": {},
   "source": [
    "## DESCRIPTION\n",
    "### Time Conversion"
   ]
  },
  {
   "cell_type": "markdown",
   "id": "3c77c9b1",
   "metadata": {},
   "source": [
    "Given a time in 12 -hour AM/PM format, convert it to military (24-hour) time.\n",
    "\n",
    "Note: - 12:00:00AM on a 12-hour clock is 00:00:00 on a 24-hour clock.\n",
    "\n",
    "- 12:00:00PM on a 12-hour clock is 12:00:00 on a 24-hour clock.\n",
    "\n",
    "**Example**\n",
    "\n",
    "- $s = 12:01:00PM$\n",
    "\n",
    "  Return '12:01:00'.\n",
    "\n",
    "- $s = 12:01:00AM$\n",
    "\n",
    "  Return '00:01:00'.\n",
    "\n",
    "**Function Description**\n",
    "\n",
    "Complete the timeConversion function in the editor below. It should return a new string representing the input time in 24 hour format.\n",
    "\n",
    "timeConversion has the following parameter(s):\n",
    "\n",
    "string s: a time in 12 hour format\n",
    "\n",
    "**Returns**\n",
    "\n",
    "string: the time in 24 hour format\n",
    "\n",
    "**Input Format**\n",
    "\n",
    "A single string  **s** that represents a time in -hour clock format (i.e.: **hh:mm:ssAM** or **hh:mm:ssPM** ).\n",
    "\n",
    "**Constraints**\n",
    "\n",
    "- All input times are valid\n",
    "\n",
    "**Sample Input 0**\n",
    "\n",
    "07:05:45PM\n",
    "\n",
    "**Sample Output 0**\n",
    "\n",
    "19:05:45"
   ]
  },
  {
   "cell_type": "markdown",
   "id": "400ae9c0",
   "metadata": {},
   "source": [
    "## Algorithm"
   ]
  },
  {
   "cell_type": "code",
   "execution_count": 1,
   "id": "ea9278a1",
   "metadata": {},
   "outputs": [],
   "source": [
    "# TimeConversion\n",
    "def timeConversion(s):\n",
    "    if s[8]=='A':\n",
    "        if s[0:2]=='12':\n",
    "            N=s.replace(s[0:2],\"00\")\n",
    "            return N[0:8]\n",
    "        else:\n",
    "            return s[0:8]\n",
    "        \n",
    "    else:\n",
    "        if s[0:2]=='01':\n",
    "            N=s.replace(s[0:2],\"13\")\n",
    "            return N[0:8]\n",
    "        if s[0:2]=='02':\n",
    "            N=s.replace(s[0:2],\"14\")\n",
    "            return N[0:8]\n",
    "        if s[0:2]=='03':\n",
    "            N=s.replace(s[0:2],\"15\")\n",
    "            return N[0:8]\n",
    "            \n",
    "        if s[0:2]=='04':\n",
    "            N=s.replace(s[0:2],\"16\")\n",
    "            return N[0:8]\n",
    "        if s[0:2]=='05':\n",
    "            N=s.replace(s[0:2],\"17\")\n",
    "            return N[0:8]\n",
    "        if s[0:2]=='06':\n",
    "            N=s.replace(s[0:2],\"18\")\n",
    "            return N[0:8]\n",
    "        if s[0:2]=='07':\n",
    "            N=s.replace(s[0:2],\"19\")\n",
    "            return N[0:8]\n",
    "        if s[0:2]=='08':\n",
    "            N=s.replace(s[0:2],\"20\")\n",
    "            return N[0:8]\n",
    "        if s[0:2]=='09':\n",
    "            N=s.replace(s[0:2],\"21\")\n",
    "            return N[0:8]\n",
    "        if s[0:2]=='10':\n",
    "            N=s.replace(s[0:2],\"22\")\n",
    "            return N[0:8]\n",
    "        if s[0:2]=='11':\n",
    "            N=s.replace(s[0:2],\"23\")\n",
    "            return N[0:8]\n",
    "        if s[0:2]=='12':\n",
    "            return s[0:8]"
   ]
  },
  {
   "cell_type": "code",
   "execution_count": 2,
   "id": "a6af22f8",
   "metadata": {},
   "outputs": [
    {
     "data": {
      "text/plain": [
       "'00:45:54'"
      ]
     },
     "execution_count": 2,
     "metadata": {},
     "output_type": "execute_result"
    }
   ],
   "source": [
    "timeConversion('12:45:54AM')"
   ]
  }
 ],
 "metadata": {
  "kernelspec": {
   "display_name": "Python 3",
   "language": "python",
   "name": "python3"
  },
  "language_info": {
   "codemirror_mode": {
    "name": "ipython",
    "version": 3
   },
   "file_extension": ".py",
   "mimetype": "text/x-python",
   "name": "python",
   "nbconvert_exporter": "python",
   "pygments_lexer": "ipython3",
   "version": "3.8.8"
  }
 },
 "nbformat": 4,
 "nbformat_minor": 5
}
