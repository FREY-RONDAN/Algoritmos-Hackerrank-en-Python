{
 "cells": [
  {
   "cell_type": "markdown",
   "id": "04ae25ed",
   "metadata": {},
   "source": [
    "## DESCRIPTION\n",
    "### Simple Array Sum"
   ]
  },
  {
   "cell_type": "markdown",
   "id": "c14a53dd",
   "metadata": {},
   "source": [
    "Given an array of integers, find the sum of its elements.\n",
    "\n",
    "For example, if the array $ar = [1,2,3] ,$  $1 + 2 + 3 = 6$, so return **6**.\n",
    "\n",
    "**Function Description**\n",
    "\n",
    "Complete the simpleArraySum function in the editor below. It must return the sum of the array elements as an integer.\n",
    "\n",
    "simpleArraySum has the following parameter(s):\n",
    "\n",
    "ar: an array of integers\n",
    "\n",
    "**Input Format**\n",
    "\n",
    "The first line contains an integer, , denoting the size of the array.\n",
    "The second line contains  space-separated integers representing the array's elements.\n",
    "\n",
    "**Constraints**\n",
    "\n",
    "$0 < n,ar[i] \\le 1000$\n",
    "\n",
    "**Output Format**\n",
    "\n",
    "Print the sum of the array's elements as a single integer.\n",
    "\n",
    "**Sample Input**\n",
    "\n",
    "6\n",
    "\n",
    "1 2 3 4 10 11\n",
    "\n",
    "**Sample Output**\n",
    "\n",
    "31\n",
    "\n",
    "**Explanation**\n",
    "\n",
    "We print the sum of the array's elements: \n",
    "\n",
    "$1 + 2 + 3 + 4 + 10 + 11 = 31$"
   ]
  },
  {
   "cell_type": "markdown",
   "id": "6c919433",
   "metadata": {},
   "source": [
    "## Algorithm"
   ]
  },
  {
   "cell_type": "code",
   "execution_count": 1,
   "id": "e2f4b3cc",
   "metadata": {},
   "outputs": [],
   "source": [
    "##Simple Array Sum\n",
    "def simpleArraySum(ar):\n",
    "    s=sum(ar)\n",
    "    return s"
   ]
  },
  {
   "cell_type": "code",
   "execution_count": 2,
   "id": "6d9c38d8",
   "metadata": {},
   "outputs": [
    {
     "data": {
      "text/plain": [
       "31"
      ]
     },
     "execution_count": 2,
     "metadata": {},
     "output_type": "execute_result"
    }
   ],
   "source": [
    "simpleArraySum([1,2,3,4,10,11])"
   ]
  },
  {
   "cell_type": "code",
   "execution_count": null,
   "id": "28887f64",
   "metadata": {},
   "outputs": [],
   "source": []
  }
 ],
 "metadata": {
  "kernelspec": {
   "display_name": "Python 3",
   "language": "python",
   "name": "python3"
  },
  "language_info": {
   "codemirror_mode": {
    "name": "ipython",
    "version": 3
   },
   "file_extension": ".py",
   "mimetype": "text/x-python",
   "name": "python",
   "nbconvert_exporter": "python",
   "pygments_lexer": "ipython3",
   "version": "3.8.8"
  }
 },
 "nbformat": 4,
 "nbformat_minor": 5
}
