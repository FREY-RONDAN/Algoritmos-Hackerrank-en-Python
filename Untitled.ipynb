{
 "cells": [
  {
   "cell_type": "markdown",
   "id": "b044948e",
   "metadata": {},
   "source": []
  },
  {
   "cell_type": "code",
   "execution_count": 76,
   "id": "e095b6c7",
   "metadata": {},
   "outputs": [],
   "source": [
    "##Simple Array Sum\n",
    "def simpleArraySum(ar):\n",
    "    s=sum(ar)\n",
    "    return s"
   ]
  },
  {
   "cell_type": "code",
   "execution_count": 69,
   "id": "2b793ad7",
   "metadata": {},
   "outputs": [],
   "source": [
    "simpleArraySum([1,2,3,4,10,11])"
   ]
  },
  {
   "cell_type": "code",
   "execution_count": 86,
   "id": "6acd1f12",
   "metadata": {},
   "outputs": [],
   "source": [
    "#A Very Big Sum\n",
    "def aVeryBigSum(ar):\n",
    "    # Write your code here\n",
    "     s=sum(ar)\n",
    "     return s"
   ]
  },
  {
   "cell_type": "code",
   "execution_count": 87,
   "id": "aae4b085",
   "metadata": {},
   "outputs": [
    {
     "data": {
      "text/plain": [
       "15"
      ]
     },
     "execution_count": 87,
     "metadata": {},
     "output_type": "execute_result"
    }
   ],
   "source": [
    "aVeryBigSum([1,2,3,4,5])"
   ]
  },
  {
   "cell_type": "code",
   "execution_count": 107,
   "id": "79c6be93",
   "metadata": {},
   "outputs": [],
   "source": [
    "#Compare the Triplets\n",
    "\n",
    "def compareTriplets(a, b):\n",
    "    # Write your code here\n",
    "    n=len(a)\n",
    "    alice=0\n",
    "    bob=0\n",
    "    for i in range(0,n):\n",
    "        if a[i]>b[i]:\n",
    "            alice+=1\n",
    "            \n",
    "        if b[i]>a[i]:\n",
    "            bob+=1\n",
    "            \n",
    "    r=[alice,bob]\n",
    "    return r\n",
    "    \n",
    "    \n"
   ]
  },
  {
   "cell_type": "code",
   "execution_count": 108,
   "id": "49e23e0d",
   "metadata": {},
   "outputs": [
    {
     "data": {
      "text/plain": [
       "[2, 1]"
      ]
     },
     "execution_count": 108,
     "metadata": {},
     "output_type": "execute_result"
    }
   ],
   "source": [
    "compareTriplets([17,28,30], [99,16,8])"
   ]
  },
  {
   "cell_type": "code",
   "execution_count": 118,
   "id": "8469f8c1",
   "metadata": {},
   "outputs": [],
   "source": [
    "# Diagonal Difference\n",
    "def diagonalDifference(matrix):\n",
    "    dp=0\n",
    "    ds=0\n",
    "    n=len(matrix)\n",
    "    \n",
    "    for i in range(0,n):\n",
    "        dp+=matrix[i][i]\n",
    "        ds+=matrix[i][n-1-i] \n",
    "    \n",
    "    return (abs(dp-ds))\n",
    "   \n",
    " \n",
    "\n"
   ]
  },
  {
   "cell_type": "code",
   "execution_count": 119,
   "id": "8eae93b8",
   "metadata": {},
   "outputs": [
    {
     "name": "stdout",
     "output_type": "stream",
     "text": [
      "0\n",
      "15\n",
      "15\n"
     ]
    }
   ],
   "source": [
    "diagonalDifference([[1,2,3],[4,5,6],[7,8,9]])"
   ]
  },
  {
   "cell_type": "code",
   "execution_count": 110,
   "id": "d92fca5c",
   "metadata": {},
   "outputs": [
    {
     "data": {
      "text/plain": [
       "list"
      ]
     },
     "execution_count": 110,
     "metadata": {},
     "output_type": "execute_result"
    }
   ],
   "source": [
    "# Birthday Cake Candles\n",
    "def birthdayCakeCandles(candles):\n",
    "    # Write your code here\n",
    "    n=len(candles)\n",
    "    m=max(candles)\n",
    "    c=0\n",
    "    for i in range(0,n):\n",
    "        if candles[i]==m:\n",
    "            c+=1\n",
    "               \n",
    "    return (c)\n"
   ]
  },
  {
   "cell_type": "code",
   "execution_count": 125,
   "id": "78ea0e30",
   "metadata": {},
   "outputs": [],
   "source": [
    "def miniMaxSum(arr):\n",
    "    # Write your code here\n",
    "    m=0\n",
    "    mi=0\n",
    "    for i in range(0,len(arr)-1):\n",
    "        m+=arr[i]\n",
    "    for j in range(1,len(arr)):\n",
    "        mi+=arr[j]\n",
    "        \n",
    "    print(m,\"     \",mi)\n",
    "    "
   ]
  },
  {
   "cell_type": "code",
   "execution_count": 133,
   "id": "aa6b4ee6",
   "metadata": {},
   "outputs": [],
   "source": [
    "# Mini Max Sum\n",
    "def miniMaxSum(arr):\n",
    "    r1=max(arr)\n",
    "    r2=min(arr)\n",
    "    ma=sum(arr)-r2\n",
    "    mi=sum(arr)-r1\n",
    "    \n",
    "    print (mi,ma)\n",
    "    "
   ]
  },
  {
   "cell_type": "code",
   "execution_count": 134,
   "id": "af59708e",
   "metadata": {},
   "outputs": [
    {
     "name": "stdout",
     "output_type": "stream",
     "text": [
      "14 10\n"
     ]
    }
   ],
   "source": [
    "miniMaxSum([1,2,3,4,5])"
   ]
  },
  {
   "cell_type": "code",
   "execution_count": 235,
   "id": "30d03f8b",
   "metadata": {},
   "outputs": [],
   "source": [
    "# TimeConversion\n",
    "def timeConversion(s):\n",
    "    if s[8]=='A':\n",
    "        if s[0:2]=='12':\n",
    "            N=s.replace(s[0:2],\"00\")\n",
    "            return N[0:8]\n",
    "        else:\n",
    "            return s[0:8]\n",
    "        \n",
    "    else:\n",
    "        if s[0:2]=='01':\n",
    "            N=s.replace(s[0:2],\"13\")\n",
    "            return N[0:8]\n",
    "        if s[0:2]=='02':\n",
    "            N=s.replace(s[0:2],\"14\")\n",
    "            return N[0:8]\n",
    "        if s[0:2]=='03':\n",
    "            N=s.replace(s[0:2],\"15\")\n",
    "            return N[0:8]\n",
    "            \n",
    "        if s[0:2]=='04':\n",
    "            N=s.replace(s[0:2],\"16\")\n",
    "            return N[0:8]\n",
    "        if s[0:2]=='05':\n",
    "            N=s.replace(s[0:2],\"17\")\n",
    "            return N[0:8]\n",
    "        if s[0:2]=='06':\n",
    "            N=s.replace(s[0:2],\"18\")\n",
    "            return N[0:8]\n",
    "        if s[0:2]=='07':\n",
    "            N=s.replace(s[0:2],\"19\")\n",
    "            return N[0:8]\n",
    "        if s[0:2]=='08':\n",
    "            N=s.replace(s[0:2],\"20\")\n",
    "            return N[0:8]\n",
    "        if s[0:2]=='09':\n",
    "            N=s.replace(s[0:2],\"21\")\n",
    "            return N[0:8]\n",
    "        if s[0:2]=='10':\n",
    "            N=s.replace(s[0:2],\"22\")\n",
    "            return N[0:8]\n",
    "        if s[0:2]=='11':\n",
    "            N=s.replace(s[0:2],\"23\")\n",
    "            return N[0:8]\n",
    "        if s[0:2]=='12':\n",
    "            return s[0:8]"
   ]
  },
  {
   "cell_type": "code",
   "execution_count": null,
   "id": "b4d3ac25",
   "metadata": {},
   "outputs": [],
   "source": [
    "timeConversion('12:45:54AM')"
   ]
  },
  {
   "cell_type": "code",
   "execution_count": 43,
   "id": "75c0284e",
   "metadata": {},
   "outputs": [],
   "source": [
    "#suma de listas\n",
    "\n",
    "def sumaListas(a,b):\n",
    "    s=[]\n",
    "    for i in range(len(a)):\n",
    "        s.append(a[i]+b[i])\n",
    " \n",
    "    return s"
   ]
  },
  {
   "cell_type": "code",
   "execution_count": 44,
   "id": "69a1c597",
   "metadata": {},
   "outputs": [
    {
     "data": {
      "text/plain": [
       "[2, 4, 6, 8]"
      ]
     },
     "execution_count": 44,
     "metadata": {},
     "output_type": "execute_result"
    }
   ],
   "source": [
    "sumaListas([1,2,3,4],[1,2,3,4])"
   ]
  },
  {
   "cell_type": "code",
   "execution_count": 26,
   "id": "c396f567",
   "metadata": {},
   "outputs": [],
   "source": [
    "def catAndMouse(x, y, z):\n",
    "    if abs(x-z)==abs(y-z):\n",
    "        return \"Mouse C\"\n",
    "    else:\n",
    "        if abs(x-z)>abs(y-z):\n",
    "            print(\"Cat B\") \n",
    "        else:\n",
    "            print(\"Cat A\")"
   ]
  },
  {
   "cell_type": "code",
   "execution_count": 27,
   "id": "055ced23",
   "metadata": {},
   "outputs": [
    {
     "data": {
      "text/plain": [
       "'Mouse C'"
      ]
     },
     "execution_count": 27,
     "metadata": {},
     "output_type": "execute_result"
    }
   ],
   "source": [
    "catAndMouse(1, 3, 2)"
   ]
  },
  {
   "cell_type": "code",
   "execution_count": 38,
   "id": "f495c76c",
   "metadata": {},
   "outputs": [],
   "source": [
    "\n"
   ]
  },
  {
   "cell_type": "code",
   "execution_count": 89,
   "id": "0b599e3c",
   "metadata": {},
   "outputs": [],
   "source": [
    "def bonAppetit(bill, k, b_cha):\n",
    "    b_act=(sum(bill)-bill[k])/2\n",
    "    ana=b_cha-b_act\n",
    "    if ana==0:\n",
    "        print('Bon Appetit')\n",
    "    else:\n",
    "        print(round(ana))\n",
    "    # Write your code "
   ]
  },
  {
   "cell_type": "code",
   "execution_count": 90,
   "id": "31abcd6c",
   "metadata": {},
   "outputs": [
    {
     "name": "stdout",
     "output_type": "stream",
     "text": [
      "5\n"
     ]
    }
   ],
   "source": [
    "bonAppetit([3,10,2,9], 1, 12)"
   ]
  },
  {
   "cell_type": "code",
   "execution_count": 172,
   "id": "5f670e0e",
   "metadata": {},
   "outputs": [],
   "source": [
    "def breakingRecords(scores):\n",
    "    mmax=[]\n",
    "    mmin=[]\n",
    "    mmax.append(scores[0])\n",
    "    mmin.append(scores[0])\n",
    "    n=len(scores)\n",
    "    for i in range(1,n):\n",
    "        if mmin[i-1]>=scores[i]:\n",
    "            mmin.append(scores[i])\n",
    "        else:\n",
    "            mmin.append(mmin[i-1])\n",
    "    for i in range(1,n):\n",
    "        if mmax[i-1]<=scores[i]:\n",
    "            mmax.append(scores[i])\n",
    "        else:\n",
    "            mmax.append(mmax[i-1])  \n",
    "    na=0\n",
    "    ni=0\n",
    "    for i in range(1,n):\n",
    "        if mmax[i-1]<mmax[i]:\n",
    "            na+=1\n",
    "   \n",
    "    \n",
    "    for i in range(1,n):\n",
    "        if mmin[i-1]>mmin[i]:\n",
    "            ni+=1\n",
    "    salida=[na,ni]\n",
    "    print(salida)\n",
    "    return mmax\n",
    "    return mmin"
   ]
  },
  {
   "cell_type": "code",
   "execution_count": 173,
   "id": "7b71f8b1",
   "metadata": {},
   "outputs": [
    {
     "name": "stdout",
     "output_type": "stream",
     "text": [
      "[4, 0]\n"
     ]
    },
    {
     "data": {
      "text/plain": [
       "[3, 4, 21, 36, 36, 36, 36, 36, 36, 42]"
      ]
     },
     "execution_count": 173,
     "metadata": {},
     "output_type": "execute_result"
    }
   ],
   "source": [
    "a1=[3, 4 ,21, 36, 10 ,28, 35, 5, 24, 42]\n",
    "breakingRecords(a1)\n"
   ]
  },
  {
   "cell_type": "code",
   "execution_count": null,
   "id": "00817fe4",
   "metadata": {},
   "outputs": [],
   "source": []
  },
  {
   "cell_type": "code",
   "execution_count": 1,
   "id": "998d5675",
   "metadata": {},
   "outputs": [],
   "source": [
    "\n",
    "            \n",
    "def gradingStudents(grades,k):\n",
    "    \n",
    "    m = sumaListas(grades,k)\n",
    "    \n",
    "    return m\n",
    "    \n",
    "    def sumaListas(a,b):\n",
    "        s=[]\n",
    "        for i in range(len(a)):\n",
    "            s.append(a[i]+b[i])\n",
    "    \n",
    "        "
   ]
  },
  {
   "cell_type": "code",
   "execution_count": 2,
   "id": "58e534fd",
   "metadata": {},
   "outputs": [
    {
     "ename": "UnboundLocalError",
     "evalue": "local variable 'sumaListas' referenced before assignment",
     "output_type": "error",
     "traceback": [
      "\u001b[1;31m---------------------------------------------------------------------------\u001b[0m",
      "\u001b[1;31mUnboundLocalError\u001b[0m                         Traceback (most recent call last)",
      "\u001b[1;32m<ipython-input-2-6ff04870328e>\u001b[0m in \u001b[0;36m<module>\u001b[1;34m\u001b[0m\n\u001b[1;32m----> 1\u001b[1;33m \u001b[0mgradingStudents\u001b[0m\u001b[1;33m(\u001b[0m\u001b[1;33m[\u001b[0m\u001b[1;36m1\u001b[0m\u001b[1;33m,\u001b[0m\u001b[1;36m2\u001b[0m\u001b[1;33m,\u001b[0m\u001b[1;36m3\u001b[0m\u001b[1;33m,\u001b[0m\u001b[1;36m4\u001b[0m\u001b[1;33m,\u001b[0m\u001b[1;36m7\u001b[0m\u001b[1;33m,\u001b[0m\u001b[1;36m8\u001b[0m\u001b[1;33m]\u001b[0m\u001b[1;33m,\u001b[0m\u001b[1;33m[\u001b[0m\u001b[1;36m1\u001b[0m\u001b[1;33m,\u001b[0m\u001b[1;36m2\u001b[0m\u001b[1;33m,\u001b[0m\u001b[1;36m3\u001b[0m\u001b[1;33m,\u001b[0m\u001b[1;36m4\u001b[0m\u001b[1;33m,\u001b[0m\u001b[1;36m7\u001b[0m\u001b[1;33m,\u001b[0m\u001b[1;36m8\u001b[0m\u001b[1;33m]\u001b[0m\u001b[1;33m)\u001b[0m\u001b[1;33m\u001b[0m\u001b[1;33m\u001b[0m\u001b[0m\n\u001b[0m",
      "\u001b[1;32m<ipython-input-1-3411ac1bf130>\u001b[0m in \u001b[0;36mgradingStudents\u001b[1;34m(grades, k)\u001b[0m\n\u001b[0;32m      1\u001b[0m \u001b[1;32mdef\u001b[0m \u001b[0mgradingStudents\u001b[0m\u001b[1;33m(\u001b[0m\u001b[0mgrades\u001b[0m\u001b[1;33m,\u001b[0m\u001b[0mk\u001b[0m\u001b[1;33m)\u001b[0m\u001b[1;33m:\u001b[0m\u001b[1;33m\u001b[0m\u001b[1;33m\u001b[0m\u001b[0m\n\u001b[0;32m      2\u001b[0m \u001b[1;33m\u001b[0m\u001b[0m\n\u001b[1;32m----> 3\u001b[1;33m     \u001b[0mm\u001b[0m \u001b[1;33m=\u001b[0m \u001b[0msumaListas\u001b[0m\u001b[1;33m(\u001b[0m\u001b[0mgrades\u001b[0m\u001b[1;33m,\u001b[0m\u001b[0mk\u001b[0m\u001b[1;33m)\u001b[0m\u001b[1;33m\u001b[0m\u001b[1;33m\u001b[0m\u001b[0m\n\u001b[0m\u001b[0;32m      4\u001b[0m \u001b[1;33m\u001b[0m\u001b[0m\n\u001b[0;32m      5\u001b[0m     \u001b[1;32mreturn\u001b[0m \u001b[0mm\u001b[0m\u001b[1;33m\u001b[0m\u001b[1;33m\u001b[0m\u001b[0m\n",
      "\u001b[1;31mUnboundLocalError\u001b[0m: local variable 'sumaListas' referenced before assignment"
     ]
    }
   ],
   "source": [
    "gradingStudents([1,2,3,4,7,8],[1,2,3,4,7,8])"
   ]
  },
  {
   "cell_type": "code",
   "execution_count": 5,
   "id": "05326282",
   "metadata": {},
   "outputs": [
    {
     "name": "stdout",
     "output_type": "stream",
     "text": [
      "10 14\n"
     ]
    }
   ],
   "source": [
    "#Fradi Data\n",
    "arr=[1,2,3,4,5]\n",
    "m=0\n",
    "mi=0\n",
    "for i in range(0,len(arr)-1):\n",
    "    m+=arr[i]\n",
    "for j in range(1,len(arr)):\n",
    "    mi+=arr[j]\n",
    "\n",
    "print(m,mi)\n"
   ]
  },
  {
   "cell_type": "code",
   "execution_count": 9,
   "id": "9261a9ca",
   "metadata": {},
   "outputs": [
    {
     "name": "stdout",
     "output_type": "stream",
     "text": [
      "2\n"
     ]
    }
   ],
   "source": [
    "candles=[3,5, 5, 3]\n",
    "n=len(candles)\n",
    "m=max(candles)\n",
    "c=0\n",
    "for i in range(0,n):\n",
    "    if candles[i]==m:\n",
    "        c+=1\n",
    "        \n",
    "print(c)\n",
    "\n",
    "\n"
   ]
  },
  {
   "cell_type": "code",
   "execution_count": 42,
   "id": "2d708540",
   "metadata": {},
   "outputs": [
    {
     "name": "stdout",
     "output_type": "stream",
     "text": [
      "0.5\n",
      "0.3333333333333333\n",
      "0.16666666666666666\n"
     ]
    }
   ],
   "source": [
    "\n",
    "arr = [-4, 3, -9, 0, 4, 1]\n",
    "n=len(arr)\n",
    "p=0\n",
    "ne=0\n",
    "c=0\n",
    "for i in range(0,n):\n",
    "    if arr[i]>0:\n",
    "        p+=1\n",
    "    if arr[i]<0:\n",
    "        ne+=1\n",
    "c=n-p-ne        \n",
    "print(p/n)\n",
    "print(ne/n)\n",
    "print(c/n)\n"
   ]
  },
  {
   "cell_type": "code",
   "execution_count": 37,
   "id": "f3658e73",
   "metadata": {},
   "outputs": [
    {
     "ename": "SyntaxError",
     "evalue": "unexpected EOF while parsing (<ipython-input-37-a9b2ee4eb75b>, line 1)",
     "output_type": "error",
     "traceback": [
      "\u001b[1;36m  File \u001b[1;32m\"<ipython-input-37-a9b2ee4eb75b>\"\u001b[1;36m, line \u001b[1;32m1\u001b[0m\n\u001b[1;33m    def plusMinus(arr):\u001b[0m\n\u001b[1;37m                       ^\u001b[0m\n\u001b[1;31mSyntaxError\u001b[0m\u001b[1;31m:\u001b[0m unexpected EOF while parsing\n"
     ]
    }
   ],
   "source": [
    "def plusMinus(arr):"
   ]
  },
  {
   "cell_type": "code",
   "execution_count": 25,
   "id": "e913e1e0",
   "metadata": {},
   "outputs": [],
   "source": [
    "x=0\n",
    "arr = [-4, 3, -9, 0, 4, 1]\n",
    "n=len(arr)\n",
    "p=0\n",
    "ne=0\n",
    "c=0\n",
    "if arr[i]>0:\n",
    "        c+=1"
   ]
  },
  {
   "cell_type": "code",
   "execution_count": 1,
   "id": "464dc9a5",
   "metadata": {},
   "outputs": [
    {
     "name": "stdout",
     "output_type": "stream",
     "text": [
      "3\n",
      "2\n",
      "3\n",
      "2\n"
     ]
    },
    {
     "ename": "IndexError",
     "evalue": "list index out of range",
     "output_type": "error",
     "traceback": [
      "\u001b[1;31m---------------------------------------------------------------------------\u001b[0m",
      "\u001b[1;31mIndexError\u001b[0m                                Traceback (most recent call last)",
      "\u001b[1;32m<ipython-input-1-30cecc8f4bb9>\u001b[0m in \u001b[0;36m<module>\u001b[1;34m\u001b[0m\n\u001b[0;32m     11\u001b[0m \u001b[1;32mwhile\u001b[0m\u001b[1;33m(\u001b[0m\u001b[0mcount\u001b[0m\u001b[1;33m<\u001b[0m\u001b[0mN\u001b[0m\u001b[1;33m)\u001b[0m\u001b[1;33m:\u001b[0m\u001b[1;33m\u001b[0m\u001b[1;33m\u001b[0m\u001b[0m\n\u001b[0;32m     12\u001b[0m     \u001b[0msum1\u001b[0m\u001b[1;33m=\u001b[0m\u001b[0msum1\u001b[0m\u001b[1;33m+\u001b[0m\u001b[0mgrid\u001b[0m\u001b[1;33m[\u001b[0m\u001b[0mcount\u001b[0m\u001b[1;33m]\u001b[0m\u001b[1;33m[\u001b[0m\u001b[0mj1\u001b[0m\u001b[1;33m]\u001b[0m\u001b[1;33m\u001b[0m\u001b[1;33m\u001b[0m\u001b[0m\n\u001b[1;32m---> 13\u001b[1;33m     \u001b[0msum2\u001b[0m\u001b[1;33m=\u001b[0m\u001b[0msum2\u001b[0m\u001b[1;33m+\u001b[0m\u001b[0mgrid\u001b[0m\u001b[1;33m[\u001b[0m\u001b[0mcount\u001b[0m\u001b[1;33m]\u001b[0m\u001b[1;33m[\u001b[0m\u001b[0mj2\u001b[0m\u001b[1;33m]\u001b[0m\u001b[1;33m\u001b[0m\u001b[1;33m\u001b[0m\u001b[0m\n\u001b[0m\u001b[0;32m     14\u001b[0m     \u001b[0mcount\u001b[0m\u001b[1;33m+=\u001b[0m\u001b[1;36m1\u001b[0m\u001b[1;33m\u001b[0m\u001b[1;33m\u001b[0m\u001b[0m\n\u001b[0;32m     15\u001b[0m     \u001b[0mj1\u001b[0m\u001b[1;33m+=\u001b[0m\u001b[1;36m1\u001b[0m\u001b[1;33m\u001b[0m\u001b[1;33m\u001b[0m\u001b[0m\n",
      "\u001b[1;31mIndexError\u001b[0m: list index out of range"
     ]
    }
   ],
   "source": [
    "N=int(input())\n",
    "grid=[]\n",
    "for i in range(0,N):\n",
    "    lists=[int(i) for i in input().split()]\n",
    "    grid.append(lists)\n",
    "count=0\n",
    "sum1=0\n",
    "sum2=0\n",
    "j1=0\n",
    "j2=N-1\n",
    "while(count<N):\n",
    "    sum1=sum1+grid[count][j1]\n",
    "    sum2=sum2+grid[count][j2]\n",
    "    count+=1\n",
    "    j1+=1\n",
    "    j2-=1\n",
    "print(abs(sum1-sum2))"
   ]
  },
  {
   "cell_type": "markdown",
   "id": "ff55840b",
   "metadata": {},
   "source": [
    "## res.text"
   ]
  },
  {
   "cell_type": "code",
   "execution_count": 9,
   "id": "0e43889c",
   "metadata": {},
   "outputs": [
    {
     "data": {
      "text/plain": [
       "[]"
      ]
     },
     "execution_count": 9,
     "metadata": {},
     "output_type": "execute_result"
    }
   ],
   "source": [
    "from bs4 import BeautifulSoup\n",
    "soup = BeautifulSoup(res.content)\n",
    "table = soup.find_all('table')\n",
    "table"
   ]
  },
  {
   "cell_type": "code",
   "execution_count": 11,
   "id": "0f3b170a",
   "metadata": {},
   "outputs": [
    {
     "ename": "ValueError",
     "evalue": "No tables found",
     "output_type": "error",
     "traceback": [
      "\u001b[1;31m---------------------------------------------------------------------------\u001b[0m",
      "\u001b[1;31mValueError\u001b[0m                                Traceback (most recent call last)",
      "\u001b[1;32m<ipython-input-11-02d152a84181>\u001b[0m in \u001b[0;36m<module>\u001b[1;34m\u001b[0m\n\u001b[0;32m      1\u001b[0m \u001b[1;32mimport\u001b[0m \u001b[0mpandas\u001b[0m \u001b[1;32mas\u001b[0m \u001b[0mpd\u001b[0m\u001b[1;33m\u001b[0m\u001b[1;33m\u001b[0m\u001b[0m\n\u001b[1;32m----> 2\u001b[1;33m \u001b[0mdf\u001b[0m \u001b[1;33m=\u001b[0m \u001b[0mpd\u001b[0m\u001b[1;33m.\u001b[0m\u001b[0mread_html\u001b[0m\u001b[1;33m(\u001b[0m\u001b[0mstr\u001b[0m\u001b[1;33m(\u001b[0m\u001b[0mtable\u001b[0m\u001b[1;33m)\u001b[0m\u001b[1;33m)\u001b[0m\u001b[1;33m\u001b[0m\u001b[1;33m\u001b[0m\u001b[0m\n\u001b[0m\u001b[0;32m      3\u001b[0m \u001b[0mdf\u001b[0m \u001b[1;33m=\u001b[0m \u001b[0mdf\u001b[0m\u001b[1;33m[\u001b[0m\u001b[1;36m1\u001b[0m\u001b[1;33m]\u001b[0m\u001b[1;33m\u001b[0m\u001b[1;33m\u001b[0m\u001b[0m\n",
      "\u001b[1;32mC:\\ProgramData\\Anaconda3\\lib\\site-packages\\pandas\\util\\_decorators.py\u001b[0m in \u001b[0;36mwrapper\u001b[1;34m(*args, **kwargs)\u001b[0m\n\u001b[0;32m    297\u001b[0m                 )\n\u001b[0;32m    298\u001b[0m                 \u001b[0mwarnings\u001b[0m\u001b[1;33m.\u001b[0m\u001b[0mwarn\u001b[0m\u001b[1;33m(\u001b[0m\u001b[0mmsg\u001b[0m\u001b[1;33m,\u001b[0m \u001b[0mFutureWarning\u001b[0m\u001b[1;33m,\u001b[0m \u001b[0mstacklevel\u001b[0m\u001b[1;33m=\u001b[0m\u001b[0mstacklevel\u001b[0m\u001b[1;33m)\u001b[0m\u001b[1;33m\u001b[0m\u001b[1;33m\u001b[0m\u001b[0m\n\u001b[1;32m--> 299\u001b[1;33m             \u001b[1;32mreturn\u001b[0m \u001b[0mfunc\u001b[0m\u001b[1;33m(\u001b[0m\u001b[1;33m*\u001b[0m\u001b[0margs\u001b[0m\u001b[1;33m,\u001b[0m \u001b[1;33m**\u001b[0m\u001b[0mkwargs\u001b[0m\u001b[1;33m)\u001b[0m\u001b[1;33m\u001b[0m\u001b[1;33m\u001b[0m\u001b[0m\n\u001b[0m\u001b[0;32m    300\u001b[0m \u001b[1;33m\u001b[0m\u001b[0m\n\u001b[0;32m    301\u001b[0m         \u001b[1;32mreturn\u001b[0m \u001b[0mwrapper\u001b[0m\u001b[1;33m\u001b[0m\u001b[1;33m\u001b[0m\u001b[0m\n",
      "\u001b[1;32mC:\\ProgramData\\Anaconda3\\lib\\site-packages\\pandas\\io\\html.py\u001b[0m in \u001b[0;36mread_html\u001b[1;34m(io, match, flavor, header, index_col, skiprows, attrs, parse_dates, thousands, encoding, decimal, converters, na_values, keep_default_na, displayed_only)\u001b[0m\n\u001b[0;32m   1083\u001b[0m     \u001b[0mio\u001b[0m \u001b[1;33m=\u001b[0m \u001b[0mstringify_path\u001b[0m\u001b[1;33m(\u001b[0m\u001b[0mio\u001b[0m\u001b[1;33m)\u001b[0m\u001b[1;33m\u001b[0m\u001b[1;33m\u001b[0m\u001b[0m\n\u001b[0;32m   1084\u001b[0m \u001b[1;33m\u001b[0m\u001b[0m\n\u001b[1;32m-> 1085\u001b[1;33m     return _parse(\n\u001b[0m\u001b[0;32m   1086\u001b[0m         \u001b[0mflavor\u001b[0m\u001b[1;33m=\u001b[0m\u001b[0mflavor\u001b[0m\u001b[1;33m,\u001b[0m\u001b[1;33m\u001b[0m\u001b[1;33m\u001b[0m\u001b[0m\n\u001b[0;32m   1087\u001b[0m         \u001b[0mio\u001b[0m\u001b[1;33m=\u001b[0m\u001b[0mio\u001b[0m\u001b[1;33m,\u001b[0m\u001b[1;33m\u001b[0m\u001b[1;33m\u001b[0m\u001b[0m\n",
      "\u001b[1;32mC:\\ProgramData\\Anaconda3\\lib\\site-packages\\pandas\\io\\html.py\u001b[0m in \u001b[0;36m_parse\u001b[1;34m(flavor, io, match, attrs, encoding, displayed_only, **kwargs)\u001b[0m\n\u001b[0;32m    911\u001b[0m     \u001b[1;32melse\u001b[0m\u001b[1;33m:\u001b[0m\u001b[1;33m\u001b[0m\u001b[1;33m\u001b[0m\u001b[0m\n\u001b[0;32m    912\u001b[0m         \u001b[1;32massert\u001b[0m \u001b[0mretained\u001b[0m \u001b[1;32mis\u001b[0m \u001b[1;32mnot\u001b[0m \u001b[1;32mNone\u001b[0m  \u001b[1;31m# for mypy\u001b[0m\u001b[1;33m\u001b[0m\u001b[1;33m\u001b[0m\u001b[0m\n\u001b[1;32m--> 913\u001b[1;33m         \u001b[1;32mraise\u001b[0m \u001b[0mretained\u001b[0m\u001b[1;33m\u001b[0m\u001b[1;33m\u001b[0m\u001b[0m\n\u001b[0m\u001b[0;32m    914\u001b[0m \u001b[1;33m\u001b[0m\u001b[0m\n\u001b[0;32m    915\u001b[0m     \u001b[0mret\u001b[0m \u001b[1;33m=\u001b[0m \u001b[1;33m[\u001b[0m\u001b[1;33m]\u001b[0m\u001b[1;33m\u001b[0m\u001b[1;33m\u001b[0m\u001b[0m\n",
      "\u001b[1;32mC:\\ProgramData\\Anaconda3\\lib\\site-packages\\pandas\\io\\html.py\u001b[0m in \u001b[0;36m_parse\u001b[1;34m(flavor, io, match, attrs, encoding, displayed_only, **kwargs)\u001b[0m\n\u001b[0;32m    891\u001b[0m \u001b[1;33m\u001b[0m\u001b[0m\n\u001b[0;32m    892\u001b[0m         \u001b[1;32mtry\u001b[0m\u001b[1;33m:\u001b[0m\u001b[1;33m\u001b[0m\u001b[1;33m\u001b[0m\u001b[0m\n\u001b[1;32m--> 893\u001b[1;33m             \u001b[0mtables\u001b[0m \u001b[1;33m=\u001b[0m \u001b[0mp\u001b[0m\u001b[1;33m.\u001b[0m\u001b[0mparse_tables\u001b[0m\u001b[1;33m(\u001b[0m\u001b[1;33m)\u001b[0m\u001b[1;33m\u001b[0m\u001b[1;33m\u001b[0m\u001b[0m\n\u001b[0m\u001b[0;32m    894\u001b[0m         \u001b[1;32mexcept\u001b[0m \u001b[0mValueError\u001b[0m \u001b[1;32mas\u001b[0m \u001b[0mcaught\u001b[0m\u001b[1;33m:\u001b[0m\u001b[1;33m\u001b[0m\u001b[1;33m\u001b[0m\u001b[0m\n\u001b[0;32m    895\u001b[0m             \u001b[1;31m# if `io` is an io-like object, check if it's seekable\u001b[0m\u001b[1;33m\u001b[0m\u001b[1;33m\u001b[0m\u001b[1;33m\u001b[0m\u001b[0m\n",
      "\u001b[1;32mC:\\ProgramData\\Anaconda3\\lib\\site-packages\\pandas\\io\\html.py\u001b[0m in \u001b[0;36mparse_tables\u001b[1;34m(self)\u001b[0m\n\u001b[0;32m    211\u001b[0m         \u001b[0mlist\u001b[0m \u001b[0mof\u001b[0m \u001b[0mparsed\u001b[0m \u001b[1;33m(\u001b[0m\u001b[0mheader\u001b[0m\u001b[1;33m,\u001b[0m \u001b[0mbody\u001b[0m\u001b[1;33m,\u001b[0m \u001b[0mfooter\u001b[0m\u001b[1;33m)\u001b[0m \u001b[0mtuples\u001b[0m \u001b[1;32mfrom\u001b[0m \u001b[0mtables\u001b[0m\u001b[1;33m.\u001b[0m\u001b[1;33m\u001b[0m\u001b[1;33m\u001b[0m\u001b[0m\n\u001b[0;32m    212\u001b[0m         \"\"\"\n\u001b[1;32m--> 213\u001b[1;33m         \u001b[0mtables\u001b[0m \u001b[1;33m=\u001b[0m \u001b[0mself\u001b[0m\u001b[1;33m.\u001b[0m\u001b[0m_parse_tables\u001b[0m\u001b[1;33m(\u001b[0m\u001b[0mself\u001b[0m\u001b[1;33m.\u001b[0m\u001b[0m_build_doc\u001b[0m\u001b[1;33m(\u001b[0m\u001b[1;33m)\u001b[0m\u001b[1;33m,\u001b[0m \u001b[0mself\u001b[0m\u001b[1;33m.\u001b[0m\u001b[0mmatch\u001b[0m\u001b[1;33m,\u001b[0m \u001b[0mself\u001b[0m\u001b[1;33m.\u001b[0m\u001b[0mattrs\u001b[0m\u001b[1;33m)\u001b[0m\u001b[1;33m\u001b[0m\u001b[1;33m\u001b[0m\u001b[0m\n\u001b[0m\u001b[0;32m    214\u001b[0m         \u001b[1;32mreturn\u001b[0m \u001b[1;33m(\u001b[0m\u001b[0mself\u001b[0m\u001b[1;33m.\u001b[0m\u001b[0m_parse_thead_tbody_tfoot\u001b[0m\u001b[1;33m(\u001b[0m\u001b[0mtable\u001b[0m\u001b[1;33m)\u001b[0m \u001b[1;32mfor\u001b[0m \u001b[0mtable\u001b[0m \u001b[1;32min\u001b[0m \u001b[0mtables\u001b[0m\u001b[1;33m)\u001b[0m\u001b[1;33m\u001b[0m\u001b[1;33m\u001b[0m\u001b[0m\n\u001b[0;32m    215\u001b[0m \u001b[1;33m\u001b[0m\u001b[0m\n",
      "\u001b[1;32mC:\\ProgramData\\Anaconda3\\lib\\site-packages\\pandas\\io\\html.py\u001b[0m in \u001b[0;36m_parse_tables\u001b[1;34m(self, doc, match, attrs)\u001b[0m\n\u001b[0;32m    541\u001b[0m \u001b[1;33m\u001b[0m\u001b[0m\n\u001b[0;32m    542\u001b[0m         \u001b[1;32mif\u001b[0m \u001b[1;32mnot\u001b[0m \u001b[0mtables\u001b[0m\u001b[1;33m:\u001b[0m\u001b[1;33m\u001b[0m\u001b[1;33m\u001b[0m\u001b[0m\n\u001b[1;32m--> 543\u001b[1;33m             \u001b[1;32mraise\u001b[0m \u001b[0mValueError\u001b[0m\u001b[1;33m(\u001b[0m\u001b[1;34m\"No tables found\"\u001b[0m\u001b[1;33m)\u001b[0m\u001b[1;33m\u001b[0m\u001b[1;33m\u001b[0m\u001b[0m\n\u001b[0m\u001b[0;32m    544\u001b[0m \u001b[1;33m\u001b[0m\u001b[0m\n\u001b[0;32m    545\u001b[0m         \u001b[0mresult\u001b[0m \u001b[1;33m=\u001b[0m \u001b[1;33m[\u001b[0m\u001b[1;33m]\u001b[0m\u001b[1;33m\u001b[0m\u001b[1;33m\u001b[0m\u001b[0m\n",
      "\u001b[1;31mValueError\u001b[0m: No tables found"
     ]
    }
   ],
   "source": [
    "import pandas as pd\n",
    "df = pd.read_html(str(table))\n",
    "df = df[1]"
   ]
  }
 ],
 "metadata": {
  "kernelspec": {
   "display_name": "Python 3",
   "language": "python",
   "name": "python3"
  },
  "language_info": {
   "codemirror_mode": {
    "name": "ipython",
    "version": 3
   },
   "file_extension": ".py",
   "mimetype": "text/x-python",
   "name": "python",
   "nbconvert_exporter": "python",
   "pygments_lexer": "ipython3",
   "version": "3.8.8"
  }
 },
 "nbformat": 4,
 "nbformat_minor": 5
}
