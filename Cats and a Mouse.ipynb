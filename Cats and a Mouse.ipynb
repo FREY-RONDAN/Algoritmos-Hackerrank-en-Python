{
 "cells": [
  {
   "cell_type": "markdown",
   "id": "9ad317cd",
   "metadata": {},
   "source": [
    "## DESCRIPTION\n",
    "### Cats and a Mouse"
   ]
  },
  {
   "cell_type": "markdown",
   "id": "488345c0",
   "metadata": {},
   "source": [
    "Two cats and a mouse are at various positions on a line. You will be given their starting positions. Your task is to determine which cat will reach the mouse first, assuming the mouse does not move and the cats travel at equal speed. If the cats arrive at the same time, the mouse will be allowed to move and it will escape while they fight.\n",
    "\n",
    "You are given q queries in the form of x, y, and z  representing the respective positions for cats A and B , and for mouse C. Complete the function  **catAndMouse** to return the appropriate answer to each query, which will be printed on a new line.\n",
    "\n",
    "\n",
    "- If cat A catches the mouse first, print Cat A.\n",
    "\n",
    "- If cat B catches the mouse first, print Cat B.\n",
    "\n",
    "- If both cats reach the mouse at the same time, print Mouse C as the two cats fight and mouse escapes.\n",
    "\n",
    "**Example**\n",
    "\n",
    "X = 2\n",
    "\n",
    "Y = 5\n",
    "\n",
    "Z = 4\n",
    "\n",
    "The cats are at positions  2 (Cat A) and 5 (Cat B), and the mouse is at position 4. Cat B, at position 5 will arrive first since it is only 1 unit away while the other is 2 units away. Return 'Cat B'.\n",
    "\n",
    "**Function Description**\n",
    "\n",
    "Complete the catAndMouse function in the editor below.\n",
    "\n",
    "catAndMouse has the following parameter(s):\n",
    "\n",
    "- int x: Cat A's position\n",
    "\n",
    "- int y: Cat B's position\n",
    "\n",
    "- int z: Mouse C's position\n",
    "\n",
    "**Returns**\n",
    "\n",
    "- string: Either 'Cat A', 'Cat B', or 'Mouse C'\n",
    "\n",
    "**Input Format**\n",
    "\n",
    "The first line contains a single integer, q , denoting the number of queries.\n",
    "Each of the q subsequent lines contains three space-separated integers describing the respective values of x (cat A's location),  y(cat B's location), and z (mouse C's location).\n",
    "\n",
    "**Constraints**\n",
    "\n",
    "$\\begin{array}{l}\n",
    "1 \\le q \\le 100\\\\\n",
    "1 \\le x,y,z \\le 100\n",
    "\\end{array}$\n",
    "\n",
    "**Sample Input 0**\n",
    "\n",
    "2\n",
    "\n",
    "1 2 3\n",
    "\n",
    "1 3 2\n",
    "\n",
    "**Sample Output 0**\n",
    "\n",
    "Cat B\n",
    "\n",
    "Mouse C\n",
    "\n",
    "**Explanation 0**\n",
    "\n",
    "Query 0: The positions of the cats and mouse are shown below: image\n",
    "\n",
    "Cat B will catch the mouse first, so we print Cat B on a new line.\n",
    "\n",
    "Query 1: In this query, cats A and B reach mouse C at the exact same time:\n",
    "\n",
    "Because the mouse escapes, we print Mouse C on a new line."
   ]
  },
  {
   "cell_type": "markdown",
   "id": "c3d9c1c2",
   "metadata": {},
   "source": [
    "## Algorithm"
   ]
  },
  {
   "cell_type": "code",
   "execution_count": 1,
   "id": "b2e9a62d",
   "metadata": {},
   "outputs": [],
   "source": [
    "def catAndMouse(x, y, z):\n",
    "    if abs(x-z)==abs(y-z):\n",
    "        return \"Mouse C\"\n",
    "    else:\n",
    "        if abs(x-z)>abs(y-z):\n",
    "            return \"Cat B\" \n",
    "        else:\n",
    "            return \"Cat A\""
   ]
  },
  {
   "cell_type": "code",
   "execution_count": 2,
   "id": "02b86ed7",
   "metadata": {},
   "outputs": [
    {
     "data": {
      "text/plain": [
       "'Mouse C'"
      ]
     },
     "execution_count": 2,
     "metadata": {},
     "output_type": "execute_result"
    }
   ],
   "source": [
    "catAndMouse(1, 3, 2)"
   ]
  }
 ],
 "metadata": {
  "kernelspec": {
   "display_name": "Python 3",
   "language": "python",
   "name": "python3"
  },
  "language_info": {
   "codemirror_mode": {
    "name": "ipython",
    "version": 3
   },
   "file_extension": ".py",
   "mimetype": "text/x-python",
   "name": "python",
   "nbconvert_exporter": "python",
   "pygments_lexer": "ipython3",
   "version": "3.8.8"
  }
 },
 "nbformat": 4,
 "nbformat_minor": 5
}
