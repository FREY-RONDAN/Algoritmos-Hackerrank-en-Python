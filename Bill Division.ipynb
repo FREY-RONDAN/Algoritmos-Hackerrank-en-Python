{
 "cells": [
  {
   "cell_type": "markdown",
   "id": "70a49f85",
   "metadata": {},
   "source": [
    "## DESCRIPTION\n",
    "### Bill Division"
   ]
  },
  {
   "cell_type": "markdown",
   "id": "5920a817",
   "metadata": {},
   "source": [
    "Two friends Anna and Brian, are deciding how to split the bill at a dinner. Each will only pay for the items they consume. Brian gets the check and calculates Anna's portion. You must determine if his calculation is correct.\n",
    "\n",
    "For example, assume the bill has the following prices: **bill = [2 ,4 ,6]**. Anna declines to eat item **k = bill[2]** which costs 6. If Brian calculates the bill correctly, Anna will pay **(2 + 4)/2 = 3**. If he includes the cost of **bill[2]** , he will calculate **(2 + 4 +6)/2=6**. In the second case, he should refund 3 to Anna.\n",
    "\n",
    "**Function Description**\n",
    "\n",
    "Complete the bonAppetit function in the editor below. It should print Bon Appetit if the bill is fairly split. Otherwise, it should print the integer amount of money that Brian owes Anna.\n",
    "\n",
    "bonAppetit has the following parameter(s):\n",
    "\n",
    "- bill: an array of integers representing the cost of each item ordered\n",
    "\n",
    "- k: an integer representing the zero-based index of the item Anna doesn't eat\n",
    "\n",
    "- b: the amount of money that Anna contributed to the bill\n",
    "\n",
    "**Input Format**\n",
    "\n",
    "The first line contains two space-separated integers n and k, the number of items ordered and the 0-based index of the item that Anna did not eat.\n",
    "The second line contains n space-separated integers **bill[i]** where **0 < i < n** .\n",
    "The third line contains an integer, b , the amount of money that Brian charged Anna for her share of the bill.\n",
    "\n",
    "**Constraints**\n",
    "\n",
    "$\\begin{array}{l}\n",
    "2 \\le n \\le {10^5}\\\\\n",
    "0 \\le k \\le n\\\\\n",
    "2 \\le bill[i] \\le {10^4}\\\\\n",
    "0 \\le b \\le \\sum\\limits_{i = 0}^{n - 1} {bill[i]} \n",
    "\\end{array}$\n",
    "\n",
    "The amount of money due Anna will always be an integer\n",
    "\n",
    "**Output Format**\n",
    "\n",
    "If Brian did not overcharge Anna, print Bon Appetit on a new line; otherwise, print the difference (i.e., \\[{b_{ch\\arg ed}} - {b_{actual}}\\] ) that Brian must refund to Anna. This will always be an integer.\n",
    "\n",
    "**Sample Input 0**\n",
    "\n",
    "4 1\n",
    "\n",
    "3 10 2 9\n",
    "\n",
    "12\n",
    "\n",
    "**Sample Output 0**\n",
    "\n",
    "5\n",
    "\n",
    "**Explanation 0**\n",
    "\n",
    "Anna didn't eat item **bill[1] = 10** , but she shared the rest of the items with Brian. The total cost of the shared items is 3 + 2 + 9 = 14 and, split in half, the cost per person is ${b_{actual}}=7$. Brian charged her ${b_{ch\\arg ed}}=12$ for her portion of the bill. We print the amount Anna was overcharged, ${b_{ch\\arg ed}} - {b_{actual}} = 12 - 7 = 5$ , on a new line.\n",
    "\n",
    "**Sample Input 1**\n",
    "\n",
    "4 1\n",
    "\n",
    "3 10 2 9\n",
    "\n",
    "7\n",
    "\n",
    "**Sample Output 1**\n",
    "\n",
    "Bon Appetit\n",
    "\n",
    "**Explanation 1**\n",
    "\n",
    "Anna didn't eat item **bill[1] = 10**, but she shared the rest of the items with Brian. The total cost of the shared items is 3 + 2 + 9 = 14 and, split in half, the cost per person is ${b_{actual}}=7$ . Because ${b_{ch\\arg ed}} = {b_{actual}} = 7$, we print Bon Appetit on a new line."
   ]
  },
  {
   "cell_type": "markdown",
   "id": "634470af",
   "metadata": {},
   "source": [
    "## Algorithm"
   ]
  },
  {
   "cell_type": "code",
   "execution_count": 1,
   "id": "928a66a1",
   "metadata": {},
   "outputs": [],
   "source": [
    "def bonAppetit(bill, k, b_cha):\n",
    "    b_act=(sum(bill)-bill[k])/2\n",
    "    ana=b_cha-b_act\n",
    "    if ana==0:\n",
    "        print('Bon Appetit')\n",
    "    else:\n",
    "        print(round(ana))"
   ]
  },
  {
   "cell_type": "code",
   "execution_count": 2,
   "id": "186e75d1",
   "metadata": {},
   "outputs": [
    {
     "name": "stdout",
     "output_type": "stream",
     "text": [
      "5\n"
     ]
    }
   ],
   "source": [
    "bonAppetit([3,10,2,9], 1, 12)"
   ]
  }
 ],
 "metadata": {
  "kernelspec": {
   "display_name": "Python 3",
   "language": "python",
   "name": "python3"
  },
  "language_info": {
   "codemirror_mode": {
    "name": "ipython",
    "version": 3
   },
   "file_extension": ".py",
   "mimetype": "text/x-python",
   "name": "python",
   "nbconvert_exporter": "python",
   "pygments_lexer": "ipython3",
   "version": "3.8.8"
  }
 },
 "nbformat": 4,
 "nbformat_minor": 5
}
